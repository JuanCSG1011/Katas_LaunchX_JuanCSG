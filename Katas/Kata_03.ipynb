{
 "cells": [
  {
   "cell_type": "markdown",
   "metadata": {},
   "source": [
    "# Kata No. 3 por Juan Carlos Santillán Garnica"
   ]
  },
  {
   "cell_type": "markdown",
   "metadata": {},
   "source": [
    "## Condicionales ejercicio 1\n",
    "El siguiente programa nos imprime una advertencia si un asteroide se acerca a la Tierra demasiado rápido.\n",
    "Culaquier velocidad mayor a $25 \\, km\\,s^{-1}$ merece una advertencia"
   ]
  },
  {
   "cell_type": "code",
   "execution_count": 6,
   "metadata": {},
   "outputs": [
    {
     "name": "stdout",
     "output_type": "stream",
     "text": [
      "El asteroide tiene una velocidad muy alta. ¡Tener precaución!\n"
     ]
    }
   ],
   "source": [
    "velocidad = 45\n",
    "\n",
    "if velocidad > 25:\n",
    "    print(\"El asteroide tiene una velocidad muy alta ¡Tener precaución!\")\n",
    "else:\n",
    "    print(\"El asteroide no es muy rápido, esté tranquilo.\")\n"
   ]
  },
  {
   "cell_type": "markdown",
   "metadata": {},
   "source": [
    "## Condicionales ejercicio 2"
   ]
  },
  {
   "cell_type": "code",
   "execution_count": 10,
   "metadata": {},
   "outputs": [
    {
     "name": "stdout",
     "output_type": "stream",
     "text": [
      "Una disculpa, no se puede ver el asteroide\n"
     ]
    }
   ],
   "source": [
    "velocidad = 10\n",
    "if velocidad >= 20:\n",
    "    print(\"Mire arriba, puede ver un asteroide acercándose a la tierra.\")\n",
    "else:\n",
    "    print(\"Una disculpa, no se puede ver el asteroide\")"
   ]
  },
  {
   "cell_type": "markdown",
   "metadata": {},
   "source": [
    "## Condicionales ejercicio 3"
   ]
  },
  {
   "cell_type": "code",
   "execution_count": 31,
   "metadata": {},
   "outputs": [
    {
     "name": "stdout",
     "output_type": "stream",
     "text": [
      "No hay peligro mi gente\n"
     ]
    }
   ],
   "source": [
    "velocidad = 10\n",
    "tamaño = 10\n",
    "\n",
    "if velocidad > 25 and 25 < tamaño < 1000:\n",
    "    print(\"Recemos ¡El asteroide destruirá la tierra! Puede observarlo mirando hacia arriba\")\n",
    "if  25 >= velocidad >= 20:\n",
    "    if tamaño > 25:\n",
    "        print(\"El asteroide es muy grande pero no es tan veloz. Puede verlo mirando hacia arriba. Posiblemente muera\")\n",
    "    else:\n",
    "        print(\"El asteroide se puede ver pero es muy pequeño\")\n",
    "elif velocidad >= 25 or 25 < tamaño < 1000:\n",
    "    print(\"El asteroide es potencialmente peligroso, estar alerta\")\n",
    "    print(\"\")\n",
    "else:\n",
    "    print(\"No hay peligro mi gente\")"
   ]
  }
 ],
 "metadata": {
  "kernelspec": {
   "display_name": "Python 3",
   "language": "python",
   "name": "python3"
  },
  "language_info": {
   "codemirror_mode": {
    "name": "ipython",
    "version": 3
   },
   "file_extension": ".py",
   "mimetype": "text/x-python",
   "name": "python",
   "nbconvert_exporter": "python",
   "pygments_lexer": "ipython3",
   "version": "3.8.5"
  }
 },
 "nbformat": 4,
 "nbformat_minor": 4
}
