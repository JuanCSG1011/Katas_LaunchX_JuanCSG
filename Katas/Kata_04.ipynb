{
 "cells": [
  {
   "cell_type": "markdown",
   "metadata": {},
   "source": [
    "# Kata No. 4 LaunchX por Juan Carlos Santillán Garnica"
   ]
  },
  {
   "cell_type": "markdown",
   "metadata": {},
   "source": [
    "## Strings Ejercicio 1"
   ]
  },
  {
   "cell_type": "code",
   "execution_count": 11,
   "metadata": {},
   "outputs": [
    {
     "name": "stdout",
     "output_type": "stream",
     "text": [
      " On average, the Moon moves 4cm away from the Earth every year\n",
      " The highest daylight temperature of the Moon is 127 C\n",
      " On average, the Moon moves 4cm away from the Earth every year\n",
      " The highest daylight temperature of the Moon is 127 Celsius\n"
     ]
    }
   ],
   "source": [
    "text = \"\"\"Interesting facts about the Moon. The Moon is Earth's only satellite. There are several interesting facts about the Moon and how it affects life here on Earth. On average, the Moon moves 4cm away from the Earth every year. This yearly drift is not significant enough to cause immediate effects on Earth. The highest daylight temperature of the Moon is 127 C.\"\"\"\n",
    "\n",
    "text_splitted = text.split(\".\")\n",
    "\n",
    "#Palabras clave\n",
    "\n",
    "palabras_clave = [\"average\", \"temperature\", \"distance\"]\n",
    "\n",
    "for i in palabras_clave:\n",
    "    for j in text_splitted:\n",
    "        if i in j:\n",
    "            print(j)\n",
    "\n",
    "for i in palabras_clave:\n",
    "    for j in text_splitted:\n",
    "        if i in j:\n",
    "            print(j.replace(\" C\", \" Celsius\"))"
   ]
  },
  {
   "cell_type": "markdown",
   "metadata": {},
   "source": [
    "## Strings ejercicio 2"
   ]
  },
  {
   "cell_type": "code",
   "execution_count": 40,
   "metadata": {},
   "outputs": [
    {
     "name": "stdout",
     "output_type": "stream",
     "text": [
      "Facts about Moon\n",
      "------------------------------------- \n",
      " \n",
      " Planet name = Earth\n",
      " Gravit on Moon = 1.62 m/s^2 \n",
      "Facts about Ganímedes\n",
      "------------------------------------- \n",
      " \n",
      " Planet name = Marte\n",
      " Gravit on Ganímedes = 1.43 m/s^2 \n"
     ]
    }
   ],
   "source": [
    "# Datos con los que vas a trabajar\n",
    "name = \"Moon\"\n",
    "gravity = 0.00162 # in kms\n",
    "planet = \"Earth\"\n",
    "\n",
    "titulo = \"Facts about {}\\n-------------------------------------\".format(name)\n",
    "plantilla = \"Planet name = {}\\n Gravit on {} = {} m/s^2 \".format(planet, name,  round(gravity*1000,3))\n",
    "print(titulo,\"\\n\", \"\\n\", plantilla)\n",
    "\n",
    "#Nuevos datos\n",
    "name = \"Ganímedes\"\n",
    "gravity = 0.00143 # in kms\n",
    "planet = \"Marte\"\n",
    "\n",
    "titulo = \"Facts about {}\\n-------------------------------------\".format(name)\n",
    "plantilla = \"Planet name = {}\\n Gravit on {} = {} m/s^2 \".format(planet, name,  round(gravity*1000,3))\n",
    "print(titulo,\"\\n\", \"\\n\", plantilla)\n",
    "\n"
   ]
  },
  {
   "cell_type": "code",
   "execution_count": null,
   "metadata": {},
   "outputs": [],
   "source": []
  }
 ],
 "metadata": {
  "kernelspec": {
   "display_name": "Python 3",
   "language": "python",
   "name": "python3"
  },
  "language_info": {
   "codemirror_mode": {
    "name": "ipython",
    "version": 3
   },
   "file_extension": ".py",
   "mimetype": "text/x-python",
   "name": "python",
   "nbconvert_exporter": "python",
   "pygments_lexer": "ipython3",
   "version": "3.8.5"
  }
 },
 "nbformat": 4,
 "nbformat_minor": 4
}
