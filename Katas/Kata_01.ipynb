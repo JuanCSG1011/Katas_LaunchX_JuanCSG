{
 "cells": [
  {
   "cell_type": "markdown",
   "metadata": {},
   "source": [
    "# Kata no. 1 LaunchX por Juan Carlos Santillán Garnica\n"
   ]
  },
  {
   "cell_type": "markdown",
   "metadata": {},
   "source": [
    "## Mi primer programa\n",
    "La función de este programa es dar la fecha del día de hoy."
   ]
  },
  {
   "cell_type": "code",
   "execution_count": 2,
   "metadata": {},
   "outputs": [
    {
     "name": "stdout",
     "output_type": "stream",
     "text": [
      "Today's date is: 2022-02-10\n"
     ]
    }
   ],
   "source": [
    "from datetime import date\n",
    "\n",
    "print(\"Today's date is: {}\".format(date.today()))"
   ]
  },
  {
   "cell_type": "markdown",
   "metadata": {},
   "source": [
    "## Convertidor de unidades\n",
    "El siguiente programa se encarga de hacer la conversión de unidades parsec a años luz. Se debe usar la siguiente relación:\n",
    "$1 \\, parsec = 3.26156\\, años\\, luz$"
   ]
  },
  {
   "cell_type": "code",
   "execution_count": 6,
   "metadata": {},
   "outputs": [
    {
     "name": "stdout",
     "output_type": "stream",
     "text": [
      "15 parsec, is 48.9384 lightyears\n"
     ]
    }
   ],
   "source": [
    "parsec = 15\n",
    "lightyears = parsec * 3.26256\n",
    "print(\"{} parsec, is {} lightyears\".format(parsec, lightyears))"
   ]
  }
 ],
 "metadata": {
  "kernelspec": {
   "display_name": "Python 3",
   "language": "python",
   "name": "python3"
  },
  "language_info": {
   "codemirror_mode": {
    "name": "ipython",
    "version": 3
   },
   "file_extension": ".py",
   "mimetype": "text/x-python",
   "name": "python",
   "nbconvert_exporter": "python",
   "pygments_lexer": "ipython3",
   "version": "3.8.5"
  }
 },
 "nbformat": 4,
 "nbformat_minor": 4
}
